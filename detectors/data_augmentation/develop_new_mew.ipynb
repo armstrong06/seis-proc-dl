{
 "cells": [
  {
   "cell_type": "code",
   "execution_count": 1,
   "metadata": {},
   "outputs": [],
   "source": [
    "import pandas as pd\n",
    "import numpy as np\n",
    "import h5py\n",
    "import matplotlib.pyplot as plt\n",
    "import obspy"
   ]
  },
  {
   "cell_type": "code",
   "execution_count": 2,
   "metadata": {
    "pycharm": {
     "name": "#%%\n"
    }
   },
   "outputs": [],
   "source": [
    "pref=\"/uufs/chpc.utah.edu/common/home/koper-group1/alysha/Yellowstone/data/waveformArchive/pDetector\"\n",
    "validate_file = f\"{pref}/p_resampled_10s/currenteq.validate.10s.1dup.csv\"\n",
    "catalog_file= f\"{pref}/P_current_earthquake_catalog.csv\"\n",
    "catalog_wf_file = f\"{pref}/P_current_earthquake_catalog.h5\"\n",
    "\n",
    "validate_df = pd.read_csv(validate_file)\n",
    "catalog_df = pd.read_csv(catalog_file)"
   ]
  },
  {
   "cell_type": "code",
   "execution_count": 3,
   "metadata": {
    "pycharm": {
     "name": "#%%\n"
    }
   },
   "outputs": [
    {
     "data": {
      "text/html": [
       "<div>\n",
       "<style scoped>\n",
       "    .dataframe tbody tr th:only-of-type {\n",
       "        vertical-align: middle;\n",
       "    }\n",
       "\n",
       "    .dataframe tbody tr th {\n",
       "        vertical-align: top;\n",
       "    }\n",
       "\n",
       "    .dataframe thead th {\n",
       "        text-align: right;\n",
       "    }\n",
       "</style>\n",
       "<table border=\"1\" class=\"dataframe\">\n",
       "  <thead>\n",
       "    <tr style=\"text-align: right;\">\n",
       "      <th></th>\n",
       "      <th>evid</th>\n",
       "      <th>network</th>\n",
       "      <th>station</th>\n",
       "      <th>location</th>\n",
       "      <th>channelz</th>\n",
       "      <th>channel1</th>\n",
       "      <th>channel2</th>\n",
       "      <th>phase</th>\n",
       "      <th>arrival_time</th>\n",
       "      <th>pick_quality</th>\n",
       "      <th>...</th>\n",
       "      <th>event_lon</th>\n",
       "      <th>event_depth</th>\n",
       "      <th>origin_time</th>\n",
       "      <th>magnitude</th>\n",
       "      <th>magnitude_type</th>\n",
       "      <th>rflag</th>\n",
       "      <th>event_type</th>\n",
       "      <th>original_rows</th>\n",
       "      <th>qc_rows</th>\n",
       "      <th>date</th>\n",
       "    </tr>\n",
       "  </thead>\n",
       "  <tbody>\n",
       "    <tr>\n",
       "      <th>0</th>\n",
       "      <td>60067967</td>\n",
       "      <td>US</td>\n",
       "      <td>HWUT</td>\n",
       "      <td>1.0</td>\n",
       "      <td>BHZ</td>\n",
       "      <td>BHN</td>\n",
       "      <td>BHE</td>\n",
       "      <td>P</td>\n",
       "      <td>1.399620e+09</td>\n",
       "      <td>0.75</td>\n",
       "      <td>...</td>\n",
       "      <td>-112.495667</td>\n",
       "      <td>0.34</td>\n",
       "      <td>1.399620e+09</td>\n",
       "      <td>0.89</td>\n",
       "      <td>d</td>\n",
       "      <td>F</td>\n",
       "      <td>le</td>\n",
       "      <td>26883</td>\n",
       "      <td>26883</td>\n",
       "      <td>140509</td>\n",
       "    </tr>\n",
       "    <tr>\n",
       "      <th>1</th>\n",
       "      <td>60440722</td>\n",
       "      <td>WY</td>\n",
       "      <td>YNR</td>\n",
       "      <td>1.0</td>\n",
       "      <td>HHZ</td>\n",
       "      <td>HHN</td>\n",
       "      <td>HHE</td>\n",
       "      <td>P</td>\n",
       "      <td>1.624286e+09</td>\n",
       "      <td>0.75</td>\n",
       "      <td>...</td>\n",
       "      <td>-110.783333</td>\n",
       "      <td>7.75</td>\n",
       "      <td>1.624286e+09</td>\n",
       "      <td>1.03</td>\n",
       "      <td>l</td>\n",
       "      <td>F</td>\n",
       "      <td>le</td>\n",
       "      <td>163555</td>\n",
       "      <td>163555</td>\n",
       "      <td>210621</td>\n",
       "    </tr>\n",
       "    <tr>\n",
       "      <th>2</th>\n",
       "      <td>60441072</td>\n",
       "      <td>PB</td>\n",
       "      <td>B207</td>\n",
       "      <td>NaN</td>\n",
       "      <td>EHZ</td>\n",
       "      <td>EH1</td>\n",
       "      <td>EH2</td>\n",
       "      <td>P</td>\n",
       "      <td>1.624307e+09</td>\n",
       "      <td>0.75</td>\n",
       "      <td>...</td>\n",
       "      <td>-110.758833</td>\n",
       "      <td>8.05</td>\n",
       "      <td>1.624307e+09</td>\n",
       "      <td>1.33</td>\n",
       "      <td>l</td>\n",
       "      <td>F</td>\n",
       "      <td>le</td>\n",
       "      <td>164075</td>\n",
       "      <td>164075</td>\n",
       "      <td>210621</td>\n",
       "    </tr>\n",
       "    <tr>\n",
       "      <th>3</th>\n",
       "      <td>60094757</td>\n",
       "      <td>WY</td>\n",
       "      <td>YUF</td>\n",
       "      <td>1.0</td>\n",
       "      <td>HHZ</td>\n",
       "      <td>HHN</td>\n",
       "      <td>HHE</td>\n",
       "      <td>P</td>\n",
       "      <td>1.417689e+09</td>\n",
       "      <td>1.00</td>\n",
       "      <td>...</td>\n",
       "      <td>-110.521500</td>\n",
       "      <td>6.03</td>\n",
       "      <td>1.417689e+09</td>\n",
       "      <td>2.08</td>\n",
       "      <td>l</td>\n",
       "      <td>F</td>\n",
       "      <td>le</td>\n",
       "      <td>35484</td>\n",
       "      <td>35484</td>\n",
       "      <td>141204</td>\n",
       "    </tr>\n",
       "    <tr>\n",
       "      <th>4</th>\n",
       "      <td>60337937</td>\n",
       "      <td>UU</td>\n",
       "      <td>CTU</td>\n",
       "      <td>1.0</td>\n",
       "      <td>HHZ</td>\n",
       "      <td>HHN</td>\n",
       "      <td>HHE</td>\n",
       "      <td>P</td>\n",
       "      <td>1.567088e+09</td>\n",
       "      <td>0.75</td>\n",
       "      <td>...</td>\n",
       "      <td>-111.572667</td>\n",
       "      <td>6.07</td>\n",
       "      <td>1.567088e+09</td>\n",
       "      <td>1.20</td>\n",
       "      <td>l</td>\n",
       "      <td>F</td>\n",
       "      <td>le</td>\n",
       "      <td>108488</td>\n",
       "      <td>108488</td>\n",
       "      <td>190829</td>\n",
       "    </tr>\n",
       "  </tbody>\n",
       "</table>\n",
       "<p>5 rows × 29 columns</p>\n",
       "</div>"
      ],
      "text/plain": [
       "       evid network station  location channelz channel1 channel2 phase  \\\n",
       "0  60067967      US    HWUT       1.0      BHZ      BHN      BHE     P   \n",
       "1  60440722      WY     YNR       1.0      HHZ      HHN      HHE     P   \n",
       "2  60441072      PB    B207       NaN      EHZ      EH1      EH2     P   \n",
       "3  60094757      WY     YUF       1.0      HHZ      HHN      HHE     P   \n",
       "4  60337937      UU     CTU       1.0      HHZ      HHN      HHE     P   \n",
       "\n",
       "   arrival_time  pick_quality  ...   event_lon  event_depth   origin_time  \\\n",
       "0  1.399620e+09          0.75  ... -112.495667         0.34  1.399620e+09   \n",
       "1  1.624286e+09          0.75  ... -110.783333         7.75  1.624286e+09   \n",
       "2  1.624307e+09          0.75  ... -110.758833         8.05  1.624307e+09   \n",
       "3  1.417689e+09          1.00  ... -110.521500         6.03  1.417689e+09   \n",
       "4  1.567088e+09          0.75  ... -111.572667         6.07  1.567088e+09   \n",
       "\n",
       "   magnitude  magnitude_type  rflag  event_type  original_rows  qc_rows  \\\n",
       "0       0.89               d      F          le          26883    26883   \n",
       "1       1.03               l      F          le         163555   163555   \n",
       "2       1.33               l      F          le         164075   164075   \n",
       "3       2.08               l      F          le          35484    35484   \n",
       "4       1.20               l      F          le         108488   108488   \n",
       "\n",
       "     date  \n",
       "0  140509  \n",
       "1  210621  \n",
       "2  210621  \n",
       "3  141204  \n",
       "4  190829  \n",
       "\n",
       "[5 rows x 29 columns]"
      ]
     },
     "execution_count": 3,
     "metadata": {},
     "output_type": "execute_result"
    }
   ],
   "source": [
    "validate_df.head()"
   ]
  },
  {
   "cell_type": "code",
   "execution_count": 4,
   "metadata": {
    "pycharm": {
     "name": "#%%\n"
    }
   },
   "outputs": [
    {
     "data": {
      "text/html": [
       "<div>\n",
       "<style scoped>\n",
       "    .dataframe tbody tr th:only-of-type {\n",
       "        vertical-align: middle;\n",
       "    }\n",
       "\n",
       "    .dataframe tbody tr th {\n",
       "        vertical-align: top;\n",
       "    }\n",
       "\n",
       "    .dataframe thead th {\n",
       "        text-align: right;\n",
       "    }\n",
       "</style>\n",
       "<table border=\"1\" class=\"dataframe\">\n",
       "  <thead>\n",
       "    <tr style=\"text-align: right;\">\n",
       "      <th></th>\n",
       "      <th>evid</th>\n",
       "      <th>network</th>\n",
       "      <th>station</th>\n",
       "      <th>location</th>\n",
       "      <th>channelz</th>\n",
       "      <th>channel1</th>\n",
       "      <th>channel2</th>\n",
       "      <th>phase</th>\n",
       "      <th>arrival_time</th>\n",
       "      <th>pick_quality</th>\n",
       "      <th>...</th>\n",
       "      <th>receiver_lon</th>\n",
       "      <th>receiver_elev</th>\n",
       "      <th>event_lat</th>\n",
       "      <th>event_lon</th>\n",
       "      <th>event_depth</th>\n",
       "      <th>origin_time</th>\n",
       "      <th>magnitude</th>\n",
       "      <th>magnitude_type</th>\n",
       "      <th>rflag</th>\n",
       "      <th>event_type</th>\n",
       "    </tr>\n",
       "  </thead>\n",
       "  <tbody>\n",
       "    <tr>\n",
       "      <th>0</th>\n",
       "      <td>60000004</td>\n",
       "      <td>UU</td>\n",
       "      <td>JLU</td>\n",
       "      <td>1.0</td>\n",
       "      <td>HHZ</td>\n",
       "      <td>HHN</td>\n",
       "      <td>HHE</td>\n",
       "      <td>P</td>\n",
       "      <td>1.349658e+09</td>\n",
       "      <td>1.00</td>\n",
       "      <td>...</td>\n",
       "      <td>-111.44995</td>\n",
       "      <td>2285.0</td>\n",
       "      <td>40.567833</td>\n",
       "      <td>-111.2855</td>\n",
       "      <td>12.41</td>\n",
       "      <td>1.349658e+09</td>\n",
       "      <td>0.01</td>\n",
       "      <td>d</td>\n",
       "      <td>F</td>\n",
       "      <td>le</td>\n",
       "    </tr>\n",
       "    <tr>\n",
       "      <th>1</th>\n",
       "      <td>60000004</td>\n",
       "      <td>UU</td>\n",
       "      <td>BSUT</td>\n",
       "      <td>1.0</td>\n",
       "      <td>HHZ</td>\n",
       "      <td>HHN</td>\n",
       "      <td>HHE</td>\n",
       "      <td>P</td>\n",
       "      <td>1.349658e+09</td>\n",
       "      <td>0.50</td>\n",
       "      <td>...</td>\n",
       "      <td>-110.76120</td>\n",
       "      <td>3211.0</td>\n",
       "      <td>40.567833</td>\n",
       "      <td>-111.2855</td>\n",
       "      <td>12.41</td>\n",
       "      <td>1.349658e+09</td>\n",
       "      <td>0.01</td>\n",
       "      <td>d</td>\n",
       "      <td>F</td>\n",
       "      <td>le</td>\n",
       "    </tr>\n",
       "    <tr>\n",
       "      <th>2</th>\n",
       "      <td>60000005</td>\n",
       "      <td>WY</td>\n",
       "      <td>YMR</td>\n",
       "      <td>1.0</td>\n",
       "      <td>HHZ</td>\n",
       "      <td>HHN</td>\n",
       "      <td>HHE</td>\n",
       "      <td>P</td>\n",
       "      <td>1.349112e+09</td>\n",
       "      <td>0.75</td>\n",
       "      <td>...</td>\n",
       "      <td>-110.96500</td>\n",
       "      <td>2149.0</td>\n",
       "      <td>44.743333</td>\n",
       "      <td>-111.0675</td>\n",
       "      <td>5.48</td>\n",
       "      <td>1.349112e+09</td>\n",
       "      <td>-0.20</td>\n",
       "      <td>d</td>\n",
       "      <td>F</td>\n",
       "      <td>le</td>\n",
       "    </tr>\n",
       "    <tr>\n",
       "      <th>3</th>\n",
       "      <td>60000005</td>\n",
       "      <td>WY</td>\n",
       "      <td>YHH</td>\n",
       "      <td>1.0</td>\n",
       "      <td>HHZ</td>\n",
       "      <td>HHN</td>\n",
       "      <td>HHE</td>\n",
       "      <td>P</td>\n",
       "      <td>1.349112e+09</td>\n",
       "      <td>0.75</td>\n",
       "      <td>...</td>\n",
       "      <td>-110.85050</td>\n",
       "      <td>2717.0</td>\n",
       "      <td>44.743333</td>\n",
       "      <td>-111.0675</td>\n",
       "      <td>5.48</td>\n",
       "      <td>1.349112e+09</td>\n",
       "      <td>-0.20</td>\n",
       "      <td>d</td>\n",
       "      <td>F</td>\n",
       "      <td>le</td>\n",
       "    </tr>\n",
       "    <tr>\n",
       "      <th>4</th>\n",
       "      <td>60000010</td>\n",
       "      <td>PB</td>\n",
       "      <td>B207</td>\n",
       "      <td>1.0</td>\n",
       "      <td>EHZ</td>\n",
       "      <td>EHN</td>\n",
       "      <td>EHE</td>\n",
       "      <td>P</td>\n",
       "      <td>1.349101e+09</td>\n",
       "      <td>0.50</td>\n",
       "      <td>...</td>\n",
       "      <td>-110.84850</td>\n",
       "      <td>2182.0</td>\n",
       "      <td>44.438167</td>\n",
       "      <td>-111.0320</td>\n",
       "      <td>6.05</td>\n",
       "      <td>1.349101e+09</td>\n",
       "      <td>0.35</td>\n",
       "      <td>d</td>\n",
       "      <td>F</td>\n",
       "      <td>le</td>\n",
       "    </tr>\n",
       "  </tbody>\n",
       "</table>\n",
       "<p>5 rows × 26 columns</p>\n",
       "</div>"
      ],
      "text/plain": [
       "       evid network station  location channelz channel1 channel2 phase  \\\n",
       "0  60000004      UU     JLU       1.0      HHZ      HHN      HHE     P   \n",
       "1  60000004      UU    BSUT       1.0      HHZ      HHN      HHE     P   \n",
       "2  60000005      WY     YMR       1.0      HHZ      HHN      HHE     P   \n",
       "3  60000005      WY     YHH       1.0      HHZ      HHN      HHE     P   \n",
       "4  60000010      PB    B207       1.0      EHZ      EHN      EHE     P   \n",
       "\n",
       "   arrival_time  pick_quality  ...  receiver_lon  receiver_elev  event_lat  \\\n",
       "0  1.349658e+09          1.00  ...    -111.44995         2285.0  40.567833   \n",
       "1  1.349658e+09          0.50  ...    -110.76120         3211.0  40.567833   \n",
       "2  1.349112e+09          0.75  ...    -110.96500         2149.0  44.743333   \n",
       "3  1.349112e+09          0.75  ...    -110.85050         2717.0  44.743333   \n",
       "4  1.349101e+09          0.50  ...    -110.84850         2182.0  44.438167   \n",
       "\n",
       "   event_lon  event_depth   origin_time  magnitude  magnitude_type  rflag  \\\n",
       "0  -111.2855        12.41  1.349658e+09       0.01               d      F   \n",
       "1  -111.2855        12.41  1.349658e+09       0.01               d      F   \n",
       "2  -111.0675         5.48  1.349112e+09      -0.20               d      F   \n",
       "3  -111.0675         5.48  1.349112e+09      -0.20               d      F   \n",
       "4  -111.0320         6.05  1.349101e+09       0.35               d      F   \n",
       "\n",
       "   event_type  \n",
       "0          le  \n",
       "1          le  \n",
       "2          le  \n",
       "3          le  \n",
       "4          le  \n",
       "\n",
       "[5 rows x 26 columns]"
      ]
     },
     "execution_count": 4,
     "metadata": {},
     "output_type": "execute_result"
    }
   ],
   "source": [
    "catalog_df.head()"
   ]
  },
  {
   "cell_type": "code",
   "execution_count": 5,
   "metadata": {
    "pycharm": {
     "name": "#%%\n"
    }
   },
   "outputs": [
    {
     "data": {
      "text/plain": [
       "1399619860.5515075"
      ]
     },
     "execution_count": 5,
     "metadata": {},
     "output_type": "execute_result"
    }
   ],
   "source": [
    "catalog_df.iloc[26883][\"arrival_time\"]"
   ]
  },
  {
   "cell_type": "code",
   "execution_count": 6,
   "metadata": {
    "pycharm": {
     "name": "#%%\n"
    }
   },
   "outputs": [
    {
     "data": {
      "text/plain": [
       "1399619860.55"
      ]
     },
     "execution_count": 6,
     "metadata": {},
     "output_type": "execute_result"
    }
   ],
   "source": [
    "validate_df.iloc[0][\"arrival_time\"]"
   ]
  },
  {
   "cell_type": "code",
   "execution_count": 7,
   "metadata": {
    "pycharm": {
     "name": "#%%\n"
    }
   },
   "outputs": [],
   "source": [
    "rand_ind_first = np.random.randint(0, len(validate_df))\n",
    "rand_row_first = validate_df.iloc[rand_ind_first]"
   ]
  },
  {
   "cell_type": "code",
   "execution_count": 8,
   "metadata": {
    "pycharm": {
     "name": "#%%\n"
    }
   },
   "outputs": [
    {
     "data": {
      "text/plain": [
       "evid                           60417882\n",
       "network                              WY\n",
       "station                             YMR\n",
       "location                              1\n",
       "channelz                            HHZ\n",
       "channel1                            HHN\n",
       "channel2                            HHE\n",
       "phase                                 P\n",
       "arrival_time                1.60507e+09\n",
       "pick_quality                          1\n",
       "first_motion                         -1\n",
       "take_off_angle                      131\n",
       "source_receiver_distance              4\n",
       "source_receiver_azimuth           188.4\n",
       "travel_time_residual               0.03\n",
       "receiver_lat                    44.6687\n",
       "receiver_lon                   -110.965\n",
       "receiver_elev                      2149\n",
       "event_lat                       44.7042\n",
       "event_lon                      -110.958\n",
       "event_depth                        1.43\n",
       "origin_time                 1.60507e+09\n",
       "magnitude                           0.4\n",
       "magnitude_type                        d\n",
       "rflag                                 F\n",
       "event_type                           le\n",
       "original_rows                    152621\n",
       "qc_rows                          152621\n",
       "date                             201111\n",
       "Name: 5573, dtype: object"
      ]
     },
     "execution_count": 8,
     "metadata": {},
     "output_type": "execute_result"
    }
   ],
   "source": [
    "rand_row_first"
   ]
  },
  {
   "cell_type": "code",
   "execution_count": 9,
   "metadata": {
    "pycharm": {
     "name": "#%%\n"
    }
   },
   "outputs": [],
   "source": [
    "z_indicator = \"channelz\"\n",
    "evid = rand_row_first.evid\n",
    "net = rand_row_first.network\n",
    "sta = rand_row_first.station\n",
    "cha = rand_row_first[z_indicator]\n",
    "loc = rand_row_first.location\n",
    "mag = rand_row_first.magnitude\n",
    "sr_dist = rand_row_first.source_receiver_distance\n",
    "df_subset = validate_df[ (validate_df.evid != evid) & (validate_df.network == net) & (validate_df.station == sta) &\n",
    "                         (validate_df[z_indicator] == cha) & (validate_df.location == loc) &\n",
    "                         (validate_df.magnitude >= mag-0.1) & (validate_df.magnitude <= mag+1.5)]"
   ]
  },
  {
   "cell_type": "code",
   "execution_count": 10,
   "metadata": {
    "pycharm": {
     "name": "#%%\n"
    }
   },
   "outputs": [
    {
     "data": {
      "text/html": [
       "<div>\n",
       "<style scoped>\n",
       "    .dataframe tbody tr th:only-of-type {\n",
       "        vertical-align: middle;\n",
       "    }\n",
       "\n",
       "    .dataframe tbody tr th {\n",
       "        vertical-align: top;\n",
       "    }\n",
       "\n",
       "    .dataframe thead th {\n",
       "        text-align: right;\n",
       "    }\n",
       "</style>\n",
       "<table border=\"1\" class=\"dataframe\">\n",
       "  <thead>\n",
       "    <tr style=\"text-align: right;\">\n",
       "      <th></th>\n",
       "      <th>evid</th>\n",
       "      <th>network</th>\n",
       "      <th>station</th>\n",
       "      <th>location</th>\n",
       "      <th>channelz</th>\n",
       "      <th>channel1</th>\n",
       "      <th>channel2</th>\n",
       "      <th>phase</th>\n",
       "      <th>arrival_time</th>\n",
       "      <th>pick_quality</th>\n",
       "      <th>...</th>\n",
       "      <th>event_lon</th>\n",
       "      <th>event_depth</th>\n",
       "      <th>origin_time</th>\n",
       "      <th>magnitude</th>\n",
       "      <th>magnitude_type</th>\n",
       "      <th>rflag</th>\n",
       "      <th>event_type</th>\n",
       "      <th>original_rows</th>\n",
       "      <th>qc_rows</th>\n",
       "      <th>date</th>\n",
       "    </tr>\n",
       "  </thead>\n",
       "  <tbody>\n",
       "    <tr>\n",
       "      <th>94</th>\n",
       "      <td>60359437</td>\n",
       "      <td>WY</td>\n",
       "      <td>YMR</td>\n",
       "      <td>1.0</td>\n",
       "      <td>HHZ</td>\n",
       "      <td>HHN</td>\n",
       "      <td>HHE</td>\n",
       "      <td>P</td>\n",
       "      <td>1.581246e+09</td>\n",
       "      <td>0.75</td>\n",
       "      <td>...</td>\n",
       "      <td>-110.408333</td>\n",
       "      <td>1.14</td>\n",
       "      <td>1.581246e+09</td>\n",
       "      <td>0.75</td>\n",
       "      <td>d</td>\n",
       "      <td>F</td>\n",
       "      <td>le</td>\n",
       "      <td>116889</td>\n",
       "      <td>116889</td>\n",
       "      <td>200209</td>\n",
       "    </tr>\n",
       "    <tr>\n",
       "      <th>154</th>\n",
       "      <td>60206017</td>\n",
       "      <td>WY</td>\n",
       "      <td>YMR</td>\n",
       "      <td>1.0</td>\n",
       "      <td>HHZ</td>\n",
       "      <td>HHN</td>\n",
       "      <td>HHE</td>\n",
       "      <td>P</td>\n",
       "      <td>1.497904e+09</td>\n",
       "      <td>1.00</td>\n",
       "      <td>...</td>\n",
       "      <td>-111.028000</td>\n",
       "      <td>7.87</td>\n",
       "      <td>1.497904e+09</td>\n",
       "      <td>0.81</td>\n",
       "      <td>d</td>\n",
       "      <td>F</td>\n",
       "      <td>le</td>\n",
       "      <td>63903</td>\n",
       "      <td>63903</td>\n",
       "      <td>170619</td>\n",
       "    </tr>\n",
       "    <tr>\n",
       "      <th>177</th>\n",
       "      <td>60204862</td>\n",
       "      <td>WY</td>\n",
       "      <td>YMR</td>\n",
       "      <td>1.0</td>\n",
       "      <td>HHZ</td>\n",
       "      <td>HHN</td>\n",
       "      <td>HHE</td>\n",
       "      <td>P</td>\n",
       "      <td>1.497694e+09</td>\n",
       "      <td>0.75</td>\n",
       "      <td>...</td>\n",
       "      <td>-111.020833</td>\n",
       "      <td>6.77</td>\n",
       "      <td>1.497694e+09</td>\n",
       "      <td>0.86</td>\n",
       "      <td>d</td>\n",
       "      <td>F</td>\n",
       "      <td>le</td>\n",
       "      <td>62702</td>\n",
       "      <td>62702</td>\n",
       "      <td>170617</td>\n",
       "    </tr>\n",
       "    <tr>\n",
       "      <th>183</th>\n",
       "      <td>60099132</td>\n",
       "      <td>WY</td>\n",
       "      <td>YMR</td>\n",
       "      <td>1.0</td>\n",
       "      <td>HHZ</td>\n",
       "      <td>HHN</td>\n",
       "      <td>HHE</td>\n",
       "      <td>P</td>\n",
       "      <td>1.421808e+09</td>\n",
       "      <td>0.75</td>\n",
       "      <td>...</td>\n",
       "      <td>-111.099333</td>\n",
       "      <td>10.99</td>\n",
       "      <td>1.421808e+09</td>\n",
       "      <td>0.66</td>\n",
       "      <td>d</td>\n",
       "      <td>F</td>\n",
       "      <td>le</td>\n",
       "      <td>36644</td>\n",
       "      <td>36644</td>\n",
       "      <td>150121</td>\n",
       "    </tr>\n",
       "    <tr>\n",
       "      <th>187</th>\n",
       "      <td>60469927</td>\n",
       "      <td>WY</td>\n",
       "      <td>YMR</td>\n",
       "      <td>1.0</td>\n",
       "      <td>HHZ</td>\n",
       "      <td>HHN</td>\n",
       "      <td>HHE</td>\n",
       "      <td>P</td>\n",
       "      <td>1.638000e+09</td>\n",
       "      <td>1.00</td>\n",
       "      <td>...</td>\n",
       "      <td>-110.724500</td>\n",
       "      <td>7.42</td>\n",
       "      <td>1.638000e+09</td>\n",
       "      <td>0.47</td>\n",
       "      <td>d</td>\n",
       "      <td>F</td>\n",
       "      <td>le</td>\n",
       "      <td>183456</td>\n",
       "      <td>183456</td>\n",
       "      <td>211127</td>\n",
       "    </tr>\n",
       "    <tr>\n",
       "      <th>...</th>\n",
       "      <td>...</td>\n",
       "      <td>...</td>\n",
       "      <td>...</td>\n",
       "      <td>...</td>\n",
       "      <td>...</td>\n",
       "      <td>...</td>\n",
       "      <td>...</td>\n",
       "      <td>...</td>\n",
       "      <td>...</td>\n",
       "      <td>...</td>\n",
       "      <td>...</td>\n",
       "      <td>...</td>\n",
       "      <td>...</td>\n",
       "      <td>...</td>\n",
       "      <td>...</td>\n",
       "      <td>...</td>\n",
       "      <td>...</td>\n",
       "      <td>...</td>\n",
       "      <td>...</td>\n",
       "      <td>...</td>\n",
       "      <td>...</td>\n",
       "    </tr>\n",
       "    <tr>\n",
       "      <th>17884</th>\n",
       "      <td>60005292</td>\n",
       "      <td>WY</td>\n",
       "      <td>YMR</td>\n",
       "      <td>1.0</td>\n",
       "      <td>HHZ</td>\n",
       "      <td>HHN</td>\n",
       "      <td>HHE</td>\n",
       "      <td>P</td>\n",
       "      <td>1.353097e+09</td>\n",
       "      <td>0.75</td>\n",
       "      <td>...</td>\n",
       "      <td>-110.753500</td>\n",
       "      <td>2.21</td>\n",
       "      <td>1.353097e+09</td>\n",
       "      <td>1.09</td>\n",
       "      <td>l</td>\n",
       "      <td>F</td>\n",
       "      <td>le</td>\n",
       "      <td>1527</td>\n",
       "      <td>1527</td>\n",
       "      <td>121116</td>\n",
       "    </tr>\n",
       "    <tr>\n",
       "      <th>17892</th>\n",
       "      <td>60075592</td>\n",
       "      <td>WY</td>\n",
       "      <td>YMR</td>\n",
       "      <td>1.0</td>\n",
       "      <td>HHZ</td>\n",
       "      <td>HHN</td>\n",
       "      <td>HHE</td>\n",
       "      <td>P</td>\n",
       "      <td>1.404246e+09</td>\n",
       "      <td>1.00</td>\n",
       "      <td>...</td>\n",
       "      <td>-110.970000</td>\n",
       "      <td>7.71</td>\n",
       "      <td>1.404246e+09</td>\n",
       "      <td>1.34</td>\n",
       "      <td>l</td>\n",
       "      <td>F</td>\n",
       "      <td>le</td>\n",
       "      <td>30371</td>\n",
       "      <td>30371</td>\n",
       "      <td>140701</td>\n",
       "    </tr>\n",
       "    <tr>\n",
       "      <th>17906</th>\n",
       "      <td>60441047</td>\n",
       "      <td>WY</td>\n",
       "      <td>YMR</td>\n",
       "      <td>1.0</td>\n",
       "      <td>HHZ</td>\n",
       "      <td>HHN</td>\n",
       "      <td>HHE</td>\n",
       "      <td>P</td>\n",
       "      <td>1.624304e+09</td>\n",
       "      <td>0.75</td>\n",
       "      <td>...</td>\n",
       "      <td>-110.756667</td>\n",
       "      <td>5.01</td>\n",
       "      <td>1.624304e+09</td>\n",
       "      <td>0.63</td>\n",
       "      <td>l</td>\n",
       "      <td>F</td>\n",
       "      <td>le</td>\n",
       "      <td>164051</td>\n",
       "      <td>164051</td>\n",
       "      <td>210621</td>\n",
       "    </tr>\n",
       "    <tr>\n",
       "      <th>17909</th>\n",
       "      <td>60001587</td>\n",
       "      <td>WY</td>\n",
       "      <td>YMR</td>\n",
       "      <td>1.0</td>\n",
       "      <td>HHZ</td>\n",
       "      <td>HHN</td>\n",
       "      <td>HHE</td>\n",
       "      <td>P</td>\n",
       "      <td>1.350276e+09</td>\n",
       "      <td>1.00</td>\n",
       "      <td>...</td>\n",
       "      <td>-111.108167</td>\n",
       "      <td>6.00</td>\n",
       "      <td>1.350276e+09</td>\n",
       "      <td>1.63</td>\n",
       "      <td>d</td>\n",
       "      <td>F</td>\n",
       "      <td>le</td>\n",
       "      <td>561</td>\n",
       "      <td>561</td>\n",
       "      <td>121015</td>\n",
       "    </tr>\n",
       "    <tr>\n",
       "      <th>17970</th>\n",
       "      <td>60028462</td>\n",
       "      <td>WY</td>\n",
       "      <td>YMR</td>\n",
       "      <td>1.0</td>\n",
       "      <td>HHZ</td>\n",
       "      <td>HHN</td>\n",
       "      <td>HHE</td>\n",
       "      <td>P</td>\n",
       "      <td>1.372287e+09</td>\n",
       "      <td>1.00</td>\n",
       "      <td>...</td>\n",
       "      <td>-111.027667</td>\n",
       "      <td>5.54</td>\n",
       "      <td>1.372287e+09</td>\n",
       "      <td>0.90</td>\n",
       "      <td>d</td>\n",
       "      <td>F</td>\n",
       "      <td>le</td>\n",
       "      <td>9007</td>\n",
       "      <td>9007</td>\n",
       "      <td>130626</td>\n",
       "    </tr>\n",
       "  </tbody>\n",
       "</table>\n",
       "<p>540 rows × 29 columns</p>\n",
       "</div>"
      ],
      "text/plain": [
       "           evid network station  location channelz channel1 channel2 phase  \\\n",
       "94     60359437      WY     YMR       1.0      HHZ      HHN      HHE     P   \n",
       "154    60206017      WY     YMR       1.0      HHZ      HHN      HHE     P   \n",
       "177    60204862      WY     YMR       1.0      HHZ      HHN      HHE     P   \n",
       "183    60099132      WY     YMR       1.0      HHZ      HHN      HHE     P   \n",
       "187    60469927      WY     YMR       1.0      HHZ      HHN      HHE     P   \n",
       "...         ...     ...     ...       ...      ...      ...      ...   ...   \n",
       "17884  60005292      WY     YMR       1.0      HHZ      HHN      HHE     P   \n",
       "17892  60075592      WY     YMR       1.0      HHZ      HHN      HHE     P   \n",
       "17906  60441047      WY     YMR       1.0      HHZ      HHN      HHE     P   \n",
       "17909  60001587      WY     YMR       1.0      HHZ      HHN      HHE     P   \n",
       "17970  60028462      WY     YMR       1.0      HHZ      HHN      HHE     P   \n",
       "\n",
       "       arrival_time  pick_quality  ...   event_lon  event_depth   origin_time  \\\n",
       "94     1.581246e+09          0.75  ... -110.408333         1.14  1.581246e+09   \n",
       "154    1.497904e+09          1.00  ... -111.028000         7.87  1.497904e+09   \n",
       "177    1.497694e+09          0.75  ... -111.020833         6.77  1.497694e+09   \n",
       "183    1.421808e+09          0.75  ... -111.099333        10.99  1.421808e+09   \n",
       "187    1.638000e+09          1.00  ... -110.724500         7.42  1.638000e+09   \n",
       "...             ...           ...  ...         ...          ...           ...   \n",
       "17884  1.353097e+09          0.75  ... -110.753500         2.21  1.353097e+09   \n",
       "17892  1.404246e+09          1.00  ... -110.970000         7.71  1.404246e+09   \n",
       "17906  1.624304e+09          0.75  ... -110.756667         5.01  1.624304e+09   \n",
       "17909  1.350276e+09          1.00  ... -111.108167         6.00  1.350276e+09   \n",
       "17970  1.372287e+09          1.00  ... -111.027667         5.54  1.372287e+09   \n",
       "\n",
       "       magnitude  magnitude_type  rflag  event_type  original_rows  qc_rows  \\\n",
       "94          0.75               d      F          le         116889   116889   \n",
       "154         0.81               d      F          le          63903    63903   \n",
       "177         0.86               d      F          le          62702    62702   \n",
       "183         0.66               d      F          le          36644    36644   \n",
       "187         0.47               d      F          le         183456   183456   \n",
       "...          ...             ...    ...         ...            ...      ...   \n",
       "17884       1.09               l      F          le           1527     1527   \n",
       "17892       1.34               l      F          le          30371    30371   \n",
       "17906       0.63               l      F          le         164051   164051   \n",
       "17909       1.63               d      F          le            561      561   \n",
       "17970       0.90               d      F          le           9007     9007   \n",
       "\n",
       "         date  \n",
       "94     200209  \n",
       "154    170619  \n",
       "177    170617  \n",
       "183    150121  \n",
       "187    211127  \n",
       "...       ...  \n",
       "17884  121116  \n",
       "17892  140701  \n",
       "17906  210621  \n",
       "17909  121015  \n",
       "17970  130626  \n",
       "\n",
       "[540 rows x 29 columns]"
      ]
     },
     "execution_count": 10,
     "metadata": {},
     "output_type": "execute_result"
    }
   ],
   "source": [
    "df_subset"
   ]
  },
  {
   "cell_type": "code",
   "execution_count": 11,
   "metadata": {
    "pycharm": {
     "name": "#%%\n"
    }
   },
   "outputs": [],
   "source": [
    "rand_ind_subset = np.random.randint(0, len(df_subset))\n",
    "rand_row_second = df_subset.iloc[rand_ind_subset]\n"
   ]
  },
  {
   "cell_type": "code",
   "execution_count": 12,
   "metadata": {},
   "outputs": [
    {
     "data": {
      "text/plain": [
       "evid                           60417882\n",
       "network                              WY\n",
       "station                             YMR\n",
       "location                              1\n",
       "channelz                            HHZ\n",
       "channel1                            HHN\n",
       "channel2                            HHE\n",
       "phase                                 P\n",
       "arrival_time                1.60507e+09\n",
       "pick_quality                          1\n",
       "first_motion                         -1\n",
       "take_off_angle                      131\n",
       "source_receiver_distance              4\n",
       "source_receiver_azimuth           188.4\n",
       "travel_time_residual               0.03\n",
       "receiver_lat                    44.6687\n",
       "receiver_lon                   -110.965\n",
       "receiver_elev                      2149\n",
       "event_lat                       44.7042\n",
       "event_lon                      -110.958\n",
       "event_depth                        1.43\n",
       "origin_time                 1.60507e+09\n",
       "magnitude                           0.4\n",
       "magnitude_type                        d\n",
       "rflag                                 F\n",
       "event_type                           le\n",
       "original_rows                    152621\n",
       "qc_rows                          152621\n",
       "date                             201111\n",
       "Name: 5573, dtype: object"
      ]
     },
     "execution_count": 12,
     "metadata": {},
     "output_type": "execute_result"
    }
   ],
   "source": [
    "rand_row_first"
   ]
  },
  {
   "cell_type": "code",
   "execution_count": 13,
   "metadata": {},
   "outputs": [
    {
     "data": {
      "text/plain": [
       "evid                           60209167\n",
       "network                              WY\n",
       "station                             YMR\n",
       "location                              1\n",
       "channelz                            HHZ\n",
       "channel1                            HHN\n",
       "channel2                            HHE\n",
       "phase                                 P\n",
       "arrival_time                1.49866e+09\n",
       "pick_quality                          1\n",
       "first_motion                          1\n",
       "take_off_angle                       99\n",
       "source_receiver_distance             13\n",
       "source_receiver_azimuth           169.1\n",
       "travel_time_residual              -0.18\n",
       "receiver_lat                    44.6687\n",
       "receiver_lon                   -110.965\n",
       "receiver_elev                      2149\n",
       "event_lat                       44.7833\n",
       "event_lon                      -110.996\n",
       "event_depth                         5.6\n",
       "origin_time                 1.49866e+09\n",
       "magnitude                          0.78\n",
       "magnitude_type                        d\n",
       "rflag                                 F\n",
       "event_type                           le\n",
       "original_rows                     65749\n",
       "qc_rows                           65749\n",
       "date                             170628\n",
       "Name: 14879, dtype: object"
      ]
     },
     "execution_count": 13,
     "metadata": {},
     "output_type": "execute_result"
    }
   ],
   "source": [
    "rand_row_second"
   ]
  },
  {
   "cell_type": "code",
   "execution_count": 14,
   "metadata": {
    "pycharm": {
     "name": "#%%\n"
    }
   },
   "outputs": [],
   "source": [
    "file = h5py.File(catalog_wf_file, \"r\")\n",
    "wf1 = file[\"X\"][rand_row_first.original_rows]\n",
    "wf2 = file[\"X\"][rand_row_second.original_rows]\n",
    "file.close()"
   ]
  },
  {
   "cell_type": "code",
   "execution_count": 15,
   "metadata": {
    "pycharm": {
     "name": "#%%\n"
    }
   },
   "outputs": [
    {
     "data": {
      "text/plain": [
       "<matplotlib.lines.Line2D at 0x148132fff110>"
      ]
     },
     "execution_count": 15,
     "metadata": {},
     "output_type": "execute_result"
    },
    {
     "data": {
      "image/png": "[encoded data removed]",
      "text/plain": [
       "<Figure size 432x288 with 1 Axes>"
      ]
     },
     "metadata": {
      "needs_background": "light"
     },
     "output_type": "display_data"
    }
   ],
   "source": [
    "plt.plot(np.arange(0, 20, 0.01), wf1[:, :])\n",
    "plt.axvline(10, color=\"r\")\n"
   ]
  },
  {
   "cell_type": "code",
   "execution_count": 16,
   "metadata": {
    "pycharm": {
     "name": "#%%\n"
    }
   },
   "outputs": [
    {
     "data": {
      "text/plain": [
       "<matplotlib.lines.Line2D at 0x147f9bb84510>"
      ]
     },
     "execution_count": 16,
     "metadata": {},
     "output_type": "execute_result"
    },
    {
     "data": {
      "image/png": "[encoded data removed]",
      "text/plain": [
       "<Figure size 432x288 with 1 Axes>"
      ]
     },
     "metadata": {
      "needs_background": "light"
     },
     "output_type": "display_data"
    }
   ],
   "source": [
    "plt.plot(np.arange(0, 20, 0.01), wf2[:, :])\n",
    "plt.axvline(10, color=\"r\")"
   ]
  },
  {
   "cell_type": "code",
   "execution_count": 17,
   "metadata": {
    "pycharm": {
     "name": "#%%\n"
    }
   },
   "outputs": [],
   "source": [
    "def rescale_waveform(x_large, x_small, mag_diff, to_plot=False, normalize_separate=True):\n",
    "    assert mag_diff >= 0, \"Magnitude difference must be non-negative\"\n",
    "    #print(\"magnitude difference\", mag_diff)\n",
    "    # TODO: Check if I need to rescale each trace individual or if it already does that\n",
    "    # rescale value is very similar between components now that the input traces were normalized separate. But adds in\n",
    "    # potential divide by 0 errors => removing\n",
    "    if normalize_separate:\n",
    "        m1_max = np.max(abs(x_large), axis=0)\n",
    "        m2_max = np.max(abs(x_small), axis=0)\n",
    "    else:\n",
    "        m1_max = np.max(abs(x_large))\n",
    "        m2_max = np.max(abs(x_small))\n",
    "    print(\"M1 max amplitude\", m1_max)\n",
    "    print(\"M2 max amplituide\", m2_max)\n",
    "    new_max = m1_max * 1 / 10 ** (mag_diff)\n",
    "    print(\"reduce M2 amplitude by\", 10 ** mag_diff)\n",
    "    print(\"new max of m2 should be\", new_max)\n",
    "    rescale_factor = m2_max / new_max\n",
    "    m2_new = x_small / rescale_factor\n",
    "    print(\"new max is\", np.max(abs(m2_new)))\n",
    "    if to_plot:\n",
    "        fig, axes = plt.subplots(3)\n",
    "        axes[0].plot(range(x_small.shape[0]), x_small[:, 0])\n",
    "        axes[0].plot(range(x_small.shape[0]), m2_new[:, 0])\n",
    "        axes[1].plot(range(x_small.shape[0]), x_small[:, 1])\n",
    "        axes[1].plot(range(x_small.shape[0]), m2_new[:, 1])\n",
    "        axes[2].plot(range(x_small.shape[0]), x_small[:, 2])\n",
    "        axes[2].plot(range(x_small.shape[0]), m2_new[:, 2])\n",
    "        plt.suptitle((f\"Magnitude difference: {mag_diff:0.2f} - Reduced by: {rescale_factor}\"))\n",
    "        plt.show()\n",
    "        #plt.close()\n",
    "    #print(\"new max with other equation\", np.max(abs(x_small * m1_max / (m2_max * 10 ** mag_diff))))\n",
    "    #print(\"calculate magnitude difference by log10(amplitude ratio)\", np.log10(m1_max / np.max(abs(m2_new))))\n",
    "    return m2_new, x_small, rescale_factor"
   ]
  },
  {
   "cell_type": "code",
   "execution_count": 18,
   "metadata": {},
   "outputs": [],
   "source": [
    "mag_diff = rand_row_first.magnitude - rand_row_second.magnitude"
   ]
  },
  {
   "cell_type": "code",
   "execution_count": 19,
   "metadata": {},
   "outputs": [],
   "source": [
    "wf1_max = np.max(wf1)\n",
    "wf1_norm = wf1/wf1_max\n",
    "\n",
    "wf2_max = np.max(wf2)\n",
    "wf2_norm = wf2/wf2_max"
   ]
  },
  {
   "cell_type": "code",
   "execution_count": 20,
   "metadata": {},
   "outputs": [
    {
     "name": "stdout",
     "output_type": "stream",
     "text": [
      "M1 max amplitude 1.78531\n",
      "M2 max amplituide 1.0\n",
      "reduce M2 amplitude by 2.39883291902\n",
      "new max of m2 should be 0.744242085397\n",
      "new max is 0.744242\n"
     ]
    },
    {
     "data": {
      "image/png": "[encoded data removed]",
      "text/plain": [
       "<Figure size 432x288 with 3 Axes>"
      ]
     },
     "metadata": {
      "needs_background": "light"
     },
     "output_type": "display_data"
    }
   ],
   "source": [
    "if mag_diff > 0:\n",
    "    m2_new, x_small, rescale_factor = rescale_waveform(wf1_norm, wf2_norm, mag_diff, normalize_separate=False, to_plot=True)\n",
    "    wf2_norm = m2_new\n",
    "elif mag_diff < 0:\n",
    "    m1_new, x_small, rescale_factor = rescale_waveform(wf2_norm, wf1_norm, abs(mag_diff), normalize_separate=False, to_plot=True)\n",
    "    wf1_norm = m1_new"
   ]
  },
  {
   "cell_type": "code",
   "execution_count": 21,
   "metadata": {},
   "outputs": [
    {
     "name": "stdout",
     "output_type": "stream",
     "text": [
      "254 742\n",
      "308\n"
     ]
    }
   ],
   "source": [
    "wf_length = 1008\n",
    "if sr_dist <= 30:\n",
    "    min_sep = int(sr_dist / 6*100) + 50\n",
    "else:\n",
    "    min_sep = int(sr_dist / 6*100) - 100\n",
    "min_wf2 = 150\n",
    "center_window = 250\n",
    "max_first_event_sample = wf_length - min_sep - min_wf2\n",
    "min_first_event_sample = wf_length // 2 - center_window\n",
    "print(min_first_event_sample, max_first_event_sample)\n",
    "first_event_sample = np.random.randint(min_first_event_sample, max_first_event_sample)\n",
    "print(first_event_sample)"
   ]
  },
  {
   "cell_type": "code",
   "execution_count": 22,
   "metadata": {},
   "outputs": [
    {
     "name": "stdout",
     "output_type": "stream",
     "text": [
      "755 858\n",
      "758\n"
     ]
    }
   ],
   "source": [
    "# np.random.randint(-max_lag, max_lag+1, size=n_obs*n_duplicate)\n",
    "# np.random.randint in range [low, high) => includes [-250, 250]\n",
    "min_second_event_sample = np.max([wf_length // 2 + center_window + 1, first_event_sample + min_sep])\n",
    "max_second_event_sample = wf_length - min_wf2\n",
    "print(min_second_event_sample, max_second_event_sample)\n",
    "second_event_sample = np.random.randint(min_second_event_sample, max_second_event_sample)\n",
    "print(second_event_sample)"
   ]
  },
  {
   "cell_type": "code",
   "execution_count": 23,
   "metadata": {},
   "outputs": [],
   "source": [
    "org_pick_sample = wf1.shape[0]//2\n",
    "wf1_trim = wf1_norm[org_pick_sample-first_event_sample:org_pick_sample+(wf_length-first_event_sample)]"
   ]
  },
  {
   "cell_type": "code",
   "execution_count": 24,
   "metadata": {},
   "outputs": [
    {
     "data": {
      "text/plain": [
       "<matplotlib.lines.Line2D at 0x14812acad690>"
      ]
     },
     "execution_count": 24,
     "metadata": {},
     "output_type": "execute_result"
    },
    {
     "data": {
      "image/png": "[encoded data removed]",
      "text/plain": [
       "<Figure size 432x288 with 1 Axes>"
      ]
     },
     "metadata": {
      "needs_background": "light"
     },
     "output_type": "display_data"
    }
   ],
   "source": [
    "plt.plot(range(wf_length), wf1_trim[:, :])\n",
    "plt.axvline(first_event_sample, color=\"r\")"
   ]
  },
  {
   "cell_type": "code",
   "execution_count": 25,
   "metadata": {},
   "outputs": [],
   "source": [
    "wf2_buffer = 50\n",
    "wf2_trim = np.copy(wf2_norm[org_pick_sample-wf2_buffer:org_pick_sample+(wf_length - second_event_sample + wf2_buffer)])"
   ]
  },
  {
   "cell_type": "code",
   "execution_count": 26,
   "metadata": {},
   "outputs": [
    {
     "name": "stdout",
     "output_type": "stream",
     "text": [
      "         network: \n",
      "         station: \n",
      "        location: \n",
      "         channel: E\n",
      "       starttime: 1970-01-01T00:00:00.000000Z\n",
      "         endtime: 1970-01-01T00:00:03.490000Z\n",
      "   sampling_rate: 100.0\n",
      "           delta: 0.01\n",
      "            npts: 350\n",
      "           calib: 1.0\n",
      "         network: \n",
      "         station: \n",
      "        location: \n",
      "         channel: N\n",
      "       starttime: 1970-01-01T00:00:00.000000Z\n",
      "         endtime: 1970-01-01T00:00:03.490000Z\n",
      "   sampling_rate: 100.0\n",
      "           delta: 0.01\n",
      "            npts: 350\n",
      "           calib: 1.0\n",
      "         network: \n",
      "         station: \n",
      "        location: \n",
      "         channel: Z\n",
      "       starttime: 1970-01-01T00:00:00.000000Z\n",
      "         endtime: 1970-01-01T00:00:03.490000Z\n",
      "   sampling_rate: 100.0\n",
      "           delta: 0.01\n",
      "            npts: 350\n",
      "           calib: 1.0\n"
     ]
    }
   ],
   "source": [
    "channels = {0:\"E\", 1:\"N\", 2:\"Z\"}\n",
    "st = obspy.Stream()\n",
    "for ind in range(3):\n",
    "    tr = obspy.Trace(np.copy(wf2_trim[:, ind]))\n",
    "    tr.stats.channel = channels[ind]\n",
    "    tr.stats.delta = 0.01\n",
    "    tr.stats.sampling_rate = 100\n",
    "    st += tr\n",
    "    print(st[ind].stats)"
   ]
  },
  {
   "cell_type": "code",
   "execution_count": 27,
   "metadata": {},
   "outputs": [
    {
     "data": {
      "text/plain": [
       "3 Trace(s) in Stream:\n",
       "...E | 1970-01-01T00:00:00.000000Z - 1970-01-01T00:00:03.490000Z | 100.0 Hz, 350 samples\n",
       "...N | 1970-01-01T00:00:00.000000Z - 1970-01-01T00:00:03.490000Z | 100.0 Hz, 350 samples\n",
       "...Z | 1970-01-01T00:00:00.000000Z - 1970-01-01T00:00:03.490000Z | 100.0 Hz, 350 samples"
      ]
     },
     "execution_count": 27,
     "metadata": {},
     "output_type": "execute_result"
    }
   ],
   "source": [
    "st.taper(max_percentage=0.05)"
   ]
  },
  {
   "cell_type": "code",
   "execution_count": 28,
   "metadata": {},
   "outputs": [
    {
     "data": {
      "text/plain": [
       "<matplotlib.lines.Line2D at 0x147f919e3110>"
      ]
     },
     "execution_count": 28,
     "metadata": {},
     "output_type": "execute_result"
    },
    {
     "data": {
      "image/png": "[encoded data removed]",
      "text/plain": [
       "<Figure size 432x288 with 1 Axes>"
      ]
     },
     "metadata": {
      "needs_background": "light"
     },
     "output_type": "display_data"
    }
   ],
   "source": [
    "plt.plot(np.arange(0, wf2_trim.shape[0]), st[0].data)\n",
    "plt.plot(np.arange(0, wf2_trim.shape[0]), wf2_trim[:, 0])\n",
    "plt.axvline(50, color=\"r\")\n",
    "plt.axvline(wf2_trim.shape[0] - 50, color=\"r\")"
   ]
  },
  {
   "cell_type": "code",
   "execution_count": 29,
   "metadata": {},
   "outputs": [],
   "source": [
    "wf2_taper = np.concatenate([st[0].data.reshape(-1, 1), st[1].data.reshape(-1, 1), st[2].data.reshape(-1, 1)], axis=1)"
   ]
  },
  {
   "cell_type": "code",
   "execution_count": 30,
   "metadata": {},
   "outputs": [],
   "source": [
    "wf2_taper_trim = wf2_taper[0:-wf2_buffer, :]"
   ]
  },
  {
   "cell_type": "code",
   "execution_count": 31,
   "metadata": {},
   "outputs": [
    {
     "data": {
      "text/plain": [
       "<matplotlib.lines.Line2D at 0x147f91936610>"
      ]
     },
     "execution_count": 31,
     "metadata": {},
     "output_type": "execute_result"
    },
    {
     "data": {
      "image/png": "[encoded data removed]",
      "text/plain": [
       "<Figure size 432x288 with 1 Axes>"
      ]
     },
     "metadata": {
      "needs_background": "light"
     },
     "output_type": "display_data"
    }
   ],
   "source": [
    "plt.plot(np.arange(0, wf2_taper_trim.shape[0]), wf2_taper_trim[:, :])\n",
    "plt.axvline(50, color=\"r\")"
   ]
  },
  {
   "cell_type": "code",
   "execution_count": 32,
   "metadata": {},
   "outputs": [],
   "source": [
    "wf2_padded = np.zeros_like(wf1_trim)\n",
    "wf2_padded[-wf2_taper_trim.shape[0]:] = wf2_taper_trim "
   ]
  },
  {
   "cell_type": "code",
   "execution_count": 33,
   "metadata": {},
   "outputs": [
    {
     "data": {
      "text/plain": [
       "[<matplotlib.lines.Line2D at 0x147f91860790>,\n",
       " <matplotlib.lines.Line2D at 0x147f918c7550>,\n",
       " <matplotlib.lines.Line2D at 0x147f91860890>]"
      ]
     },
     "execution_count": 33,
     "metadata": {},
     "output_type": "execute_result"
    },
    {
     "data": {
      "image/png": "[encoded data removed]",
      "text/plain": [
       "<Figure size 432x288 with 1 Axes>"
      ]
     },
     "metadata": {
      "needs_background": "light"
     },
     "output_type": "display_data"
    }
   ],
   "source": [
    "plt.plot(range(wf_length), wf2_padded)"
   ]
  },
  {
   "cell_type": "code",
   "execution_count": 34,
   "metadata": {},
   "outputs": [],
   "source": [
    "combined_wf = wf1_trim + wf2_padded"
   ]
  },
  {
   "cell_type": "code",
   "execution_count": 39,
   "metadata": {},
   "outputs": [
    {
     "data": {
      "text/plain": [
       "<matplotlib.lines.Line2D at 0x147f917b2490>"
      ]
     },
     "execution_count": 39,
     "metadata": {},
     "output_type": "execute_result"
    },
    {
     "data": {
      "image/png": "[encoded data removed]",
      "text/plain": [
       "<Figure size 432x288 with 1 Axes>"
      ]
     },
     "metadata": {
      "needs_background": "light"
     },
     "output_type": "display_data"
    }
   ],
   "source": [
    "plt.plot(range(wf_length), combined_wf[:, :])\n",
    "plt.axvline(first_event_sample, color=\"r\")\n",
    "plt.axvline(second_event_sample, color=\"r\")"
   ]
  },
  {
   "cell_type": "code",
   "execution_count": 36,
   "metadata": {},
   "outputs": [
    {
     "data": {
      "text/plain": [
       "-0.38"
      ]
     },
     "execution_count": 36,
     "metadata": {},
     "output_type": "execute_result"
    }
   ],
   "source": [
    "mag_diff"
   ]
  },
  {
   "cell_type": "code",
   "execution_count": 37,
   "metadata": {},
   "outputs": [
    {
     "data": {
      "text/plain": [
       "4.0"
      ]
     },
     "execution_count": 37,
     "metadata": {},
     "output_type": "execute_result"
    }
   ],
   "source": [
    "rand_row_first.source_receiver_distance"
   ]
  },
  {
   "cell_type": "code",
   "execution_count": 38,
   "metadata": {},
   "outputs": [
    {
     "data": {
      "text/plain": [
       "116"
      ]
     },
     "execution_count": 38,
     "metadata": {},
     "output_type": "execute_result"
    }
   ],
   "source": [
    "min_sep"
   ]
  }
 ],
 "metadata": {
  "kernelspec": {
   "display_name": "Python 3",
   "language": "python",
   "name": "python3"
  },
  "language_info": {
   "codemirror_mode": {
    "name": "ipython",
    "version": 3
   },
   "file_extension": ".py",
   "mimetype": "text/x-python",
   "name": "python",
   "nbconvert_exporter": "python",
   "pygments_lexer": "ipython3",
   "version": "3.7.8"
  }
 },
 "nbformat": 4,
 "nbformat_minor": 1
}
